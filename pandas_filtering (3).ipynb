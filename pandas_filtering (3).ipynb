{
 "cells": [
  {
   "cell_type": "markdown",
   "metadata": {},
   "source": [
    "# Filter Data Using Pandas\n",
    "\n",
    "In this activity, we will demonstrate how you can read in the data, select specific rows and columns, build conditions to filter for a subset of the dataframe, all using Pandas. "
   ]
  },
  {
   "cell_type": "markdown",
   "metadata": {
    "slideshow": {
     "slide_type": "slide"
    }
   },
   "source": [
    "## Reading a CSV file\n",
    "\n",
    "We'll use the function `read_csv()` to load the data into our notebook\n",
    "\n",
    "- The `read_csv()` function can read data from a locally saved file or from a URL\n",
    "- We'll store the data as a variable `world`"
   ]
  },
  {
   "cell_type": "code",
   "execution_count": 1,
   "metadata": {
    "slideshow": {
     "slide_type": "fragment"
    }
   },
   "outputs": [
    {
     "data": {
      "text/html": [
       "<div>\n",
       "<style scoped>\n",
       "    .dataframe tbody tr th:only-of-type {\n",
       "        vertical-align: middle;\n",
       "    }\n",
       "\n",
       "    .dataframe tbody tr th {\n",
       "        vertical-align: top;\n",
       "    }\n",
       "\n",
       "    .dataframe thead th {\n",
       "        text-align: right;\n",
       "    }\n",
       "</style>\n",
       "<table border=\"1\" class=\"dataframe\">\n",
       "  <thead>\n",
       "    <tr style=\"text-align: right;\">\n",
       "      <th></th>\n",
       "      <th>country</th>\n",
       "      <th>year</th>\n",
       "      <th>population</th>\n",
       "      <th>region</th>\n",
       "      <th>sub_region</th>\n",
       "      <th>income_group</th>\n",
       "      <th>life_expectancy</th>\n",
       "      <th>gdp_per_capita</th>\n",
       "      <th>children_per_woman</th>\n",
       "      <th>child_mortality</th>\n",
       "      <th>pop_density</th>\n",
       "      <th>years_in_school_men</th>\n",
       "      <th>years_in_school_women</th>\n",
       "    </tr>\n",
       "  </thead>\n",
       "  <tbody>\n",
       "    <tr>\n",
       "      <th>0</th>\n",
       "      <td>Afghanistan</td>\n",
       "      <td>1950</td>\n",
       "      <td>7750000</td>\n",
       "      <td>Asia</td>\n",
       "      <td>Southern Asia</td>\n",
       "      <td>Low</td>\n",
       "      <td>32.0</td>\n",
       "      <td>1040</td>\n",
       "      <td>7.57</td>\n",
       "      <td>425.0</td>\n",
       "      <td>11.9</td>\n",
       "      <td>NaN</td>\n",
       "      <td>NaN</td>\n",
       "    </tr>\n",
       "    <tr>\n",
       "      <th>1</th>\n",
       "      <td>Afghanistan</td>\n",
       "      <td>1955</td>\n",
       "      <td>8270000</td>\n",
       "      <td>Asia</td>\n",
       "      <td>Southern Asia</td>\n",
       "      <td>Low</td>\n",
       "      <td>35.1</td>\n",
       "      <td>1130</td>\n",
       "      <td>7.52</td>\n",
       "      <td>394.0</td>\n",
       "      <td>12.7</td>\n",
       "      <td>NaN</td>\n",
       "      <td>NaN</td>\n",
       "    </tr>\n",
       "    <tr>\n",
       "      <th>2</th>\n",
       "      <td>Afghanistan</td>\n",
       "      <td>1960</td>\n",
       "      <td>9000000</td>\n",
       "      <td>Asia</td>\n",
       "      <td>Southern Asia</td>\n",
       "      <td>Low</td>\n",
       "      <td>38.6</td>\n",
       "      <td>1210</td>\n",
       "      <td>7.45</td>\n",
       "      <td>364.0</td>\n",
       "      <td>13.8</td>\n",
       "      <td>NaN</td>\n",
       "      <td>NaN</td>\n",
       "    </tr>\n",
       "    <tr>\n",
       "      <th>3</th>\n",
       "      <td>Afghanistan</td>\n",
       "      <td>1965</td>\n",
       "      <td>9940000</td>\n",
       "      <td>Asia</td>\n",
       "      <td>Southern Asia</td>\n",
       "      <td>Low</td>\n",
       "      <td>42.2</td>\n",
       "      <td>1190</td>\n",
       "      <td>7.45</td>\n",
       "      <td>334.0</td>\n",
       "      <td>15.2</td>\n",
       "      <td>NaN</td>\n",
       "      <td>NaN</td>\n",
       "    </tr>\n",
       "    <tr>\n",
       "      <th>4</th>\n",
       "      <td>Afghanistan</td>\n",
       "      <td>1970</td>\n",
       "      <td>11100000</td>\n",
       "      <td>Asia</td>\n",
       "      <td>Southern Asia</td>\n",
       "      <td>Low</td>\n",
       "      <td>45.8</td>\n",
       "      <td>1180</td>\n",
       "      <td>7.45</td>\n",
       "      <td>306.0</td>\n",
       "      <td>17.0</td>\n",
       "      <td>1.36</td>\n",
       "      <td>0.21</td>\n",
       "    </tr>\n",
       "  </tbody>\n",
       "</table>\n",
       "</div>"
      ],
      "text/plain": [
       "       country  year  population region     sub_region income_group  \\\n",
       "0  Afghanistan  1950     7750000   Asia  Southern Asia          Low   \n",
       "1  Afghanistan  1955     8270000   Asia  Southern Asia          Low   \n",
       "2  Afghanistan  1960     9000000   Asia  Southern Asia          Low   \n",
       "3  Afghanistan  1965     9940000   Asia  Southern Asia          Low   \n",
       "4  Afghanistan  1970    11100000   Asia  Southern Asia          Low   \n",
       "\n",
       "   life_expectancy  gdp_per_capita  children_per_woman  child_mortality  \\\n",
       "0             32.0            1040                7.57            425.0   \n",
       "1             35.1            1130                7.52            394.0   \n",
       "2             38.6            1210                7.45            364.0   \n",
       "3             42.2            1190                7.45            334.0   \n",
       "4             45.8            1180                7.45            306.0   \n",
       "\n",
       "   pop_density  years_in_school_men  years_in_school_women  \n",
       "0         11.9                  NaN                    NaN  \n",
       "1         12.7                  NaN                    NaN  \n",
       "2         13.8                  NaN                    NaN  \n",
       "3         15.2                  NaN                    NaN  \n",
       "4         17.0                 1.36                   0.21  "
      ]
     },
     "execution_count": 1,
     "metadata": {},
     "output_type": "execute_result"
    }
   ],
   "source": [
    "import pandas as pd\n",
    "\n",
    "world = pd.read_csv('gapminder.csv')\n",
    "world.head()"
   ]
  },
  {
   "cell_type": "markdown",
   "metadata": {
    "slideshow": {
     "slide_type": "slide"
    }
   },
   "source": [
    "- The output is truncated but the data is all there in our `world` variable\n",
    "- Each row of the table is an **observation**, containing the data for a single country in a single year\n",
    "- You may notice some weird `NaN` values&mdash;these represent missing data (`NaN` = \"not a number\")"
   ]
  },
  {
   "cell_type": "markdown",
   "metadata": {
    "slideshow": {
     "slide_type": "fragment"
    }
   },
   "source": [
    "What type of object is `world`?"
   ]
  },
  {
   "cell_type": "code",
   "execution_count": 2,
   "metadata": {
    "slideshow": {
     "slide_type": "fragment"
    }
   },
   "outputs": [
    {
     "data": {
      "text/plain": [
       "pandas.core.frame.DataFrame"
      ]
     },
     "execution_count": 2,
     "metadata": {},
     "output_type": "execute_result"
    }
   ],
   "source": [
    "type(world)"
   ]
  },
  {
   "cell_type": "markdown",
   "metadata": {},
   "source": [
    "We can access the `columns` attribute to print out all the columns in the dataframe. This is especially useful whenever you have a very wide dataframe."
   ]
  },
  {
   "cell_type": "code",
   "execution_count": 3,
   "metadata": {
    "slideshow": {
     "slide_type": "fragment"
    }
   },
   "outputs": [
    {
     "data": {
      "text/plain": [
       "Index(['country', 'year', 'population', 'region', 'sub_region', 'income_group',\n",
       "       'life_expectancy', 'gdp_per_capita', 'children_per_woman',\n",
       "       'child_mortality', 'pop_density', 'years_in_school_men',\n",
       "       'years_in_school_women'],\n",
       "      dtype='object')"
      ]
     },
     "execution_count": 3,
     "metadata": {},
     "output_type": "execute_result"
    }
   ],
   "source": [
    "world.columns"
   ]
  },
  {
   "cell_type": "markdown",
   "metadata": {
    "slideshow": {
     "slide_type": "slide"
    }
   },
   "source": [
    "## Selecting Columns\n",
    "\n",
    "Similar to a Python dictionary, we can index a specific column of a DataFrame using the column name inside square brackets. \n",
    "\n",
    "To select a single column, type the name of the column inside square brackets."
   ]
  },
  {
   "cell_type": "code",
   "execution_count": 5,
   "metadata": {
    "slideshow": {
     "slide_type": "fragment"
    }
   },
   "outputs": [
    {
     "data": {
      "text/plain": [
       "0       1950\n",
       "1       1955\n",
       "2       1960\n",
       "3       1965\n",
       "4       1970\n",
       "        ... \n",
       "2487    1995\n",
       "2488    2000\n",
       "2489    2005\n",
       "2490    2010\n",
       "2491    2015\n",
       "Name: year, Length: 2492, dtype: int64"
      ]
     },
     "execution_count": 5,
     "metadata": {},
     "output_type": "execute_result"
    }
   ],
   "source": [
    "world['year']"
   ]
  },
  {
   "cell_type": "markdown",
   "metadata": {},
   "source": [
    "When you select one column from a dataframe, the output is a Series."
   ]
  },
  {
   "cell_type": "code",
   "execution_count": 4,
   "metadata": {},
   "outputs": [
    {
     "data": {
      "text/plain": [
       "pandas.core.series.Series"
      ]
     },
     "execution_count": 4,
     "metadata": {},
     "output_type": "execute_result"
    }
   ],
   "source": [
    "type(world['year'])"
   ]
  },
  {
   "cell_type": "markdown",
   "metadata": {
    "slideshow": {
     "slide_type": "slide"
    }
   },
   "source": [
    "To Select multiple columns, put a column names inside a Python list, and put that list inside a pair of square brackets:"
   ]
  },
  {
   "cell_type": "code",
   "execution_count": 5,
   "metadata": {
    "slideshow": {
     "slide_type": "slide"
    }
   },
   "outputs": [
    {
     "data": {
      "text/html": [
       "<div>\n",
       "<style scoped>\n",
       "    .dataframe tbody tr th:only-of-type {\n",
       "        vertical-align: middle;\n",
       "    }\n",
       "\n",
       "    .dataframe tbody tr th {\n",
       "        vertical-align: top;\n",
       "    }\n",
       "\n",
       "    .dataframe thead th {\n",
       "        text-align: right;\n",
       "    }\n",
       "</style>\n",
       "<table border=\"1\" class=\"dataframe\">\n",
       "  <thead>\n",
       "    <tr style=\"text-align: right;\">\n",
       "      <th></th>\n",
       "      <th>country</th>\n",
       "      <th>year</th>\n",
       "    </tr>\n",
       "  </thead>\n",
       "  <tbody>\n",
       "    <tr>\n",
       "      <th>0</th>\n",
       "      <td>Afghanistan</td>\n",
       "      <td>1950</td>\n",
       "    </tr>\n",
       "    <tr>\n",
       "      <th>1</th>\n",
       "      <td>Afghanistan</td>\n",
       "      <td>1955</td>\n",
       "    </tr>\n",
       "    <tr>\n",
       "      <th>2</th>\n",
       "      <td>Afghanistan</td>\n",
       "      <td>1960</td>\n",
       "    </tr>\n",
       "    <tr>\n",
       "      <th>3</th>\n",
       "      <td>Afghanistan</td>\n",
       "      <td>1965</td>\n",
       "    </tr>\n",
       "    <tr>\n",
       "      <th>4</th>\n",
       "      <td>Afghanistan</td>\n",
       "      <td>1970</td>\n",
       "    </tr>\n",
       "    <tr>\n",
       "      <th>...</th>\n",
       "      <td>...</td>\n",
       "      <td>...</td>\n",
       "    </tr>\n",
       "    <tr>\n",
       "      <th>2487</th>\n",
       "      <td>Zimbabwe</td>\n",
       "      <td>1995</td>\n",
       "    </tr>\n",
       "    <tr>\n",
       "      <th>2488</th>\n",
       "      <td>Zimbabwe</td>\n",
       "      <td>2000</td>\n",
       "    </tr>\n",
       "    <tr>\n",
       "      <th>2489</th>\n",
       "      <td>Zimbabwe</td>\n",
       "      <td>2005</td>\n",
       "    </tr>\n",
       "    <tr>\n",
       "      <th>2490</th>\n",
       "      <td>Zimbabwe</td>\n",
       "      <td>2010</td>\n",
       "    </tr>\n",
       "    <tr>\n",
       "      <th>2491</th>\n",
       "      <td>Zimbabwe</td>\n",
       "      <td>2015</td>\n",
       "    </tr>\n",
       "  </tbody>\n",
       "</table>\n",
       "<p>2492 rows × 2 columns</p>\n",
       "</div>"
      ],
      "text/plain": [
       "          country  year\n",
       "0     Afghanistan  1950\n",
       "1     Afghanistan  1955\n",
       "2     Afghanistan  1960\n",
       "3     Afghanistan  1965\n",
       "4     Afghanistan  1970\n",
       "...           ...   ...\n",
       "2487     Zimbabwe  1995\n",
       "2488     Zimbabwe  2000\n",
       "2489     Zimbabwe  2005\n",
       "2490     Zimbabwe  2010\n",
       "2491     Zimbabwe  2015\n",
       "\n",
       "[2492 rows x 2 columns]"
      ]
     },
     "execution_count": 5,
     "metadata": {},
     "output_type": "execute_result"
    }
   ],
   "source": [
    "world[['country', 'year']]"
   ]
  },
  {
   "cell_type": "markdown",
   "metadata": {
    "slideshow": {
     "slide_type": "fragment"
    }
   },
   "source": [
    "Note the double square brackets!\n",
    "- These are required because we need both:\n",
    "  - A pair of square brackets to extract the subset, AND\n",
    "  - A pair of square brackets to define the list of columns to select."
   ]
  },
  {
   "cell_type": "markdown",
   "metadata": {
    "slideshow": {
     "slide_type": "slide"
    }
   },
   "source": [
    "When you select more than one column, the output is a DataFrame:"
   ]
  },
  {
   "cell_type": "code",
   "execution_count": 6,
   "metadata": {},
   "outputs": [
    {
     "data": {
      "text/plain": [
       "pandas.core.frame.DataFrame"
      ]
     },
     "execution_count": 6,
     "metadata": {},
     "output_type": "execute_result"
    }
   ],
   "source": [
    "type(world[['year', 'country']])"
   ]
  },
  {
   "cell_type": "markdown",
   "metadata": {
    "slideshow": {
     "slide_type": "slide"
    }
   },
   "source": [
    "It's fine to type a list of column names in order to get a subset of the dataframe. However, this is time-consuming. If you'll be frequently using a particular subset, it's often helpful to assign the subset dataframe to a separate variable."
   ]
  },
  {
   "cell_type": "code",
   "execution_count": 7,
   "metadata": {
    "slideshow": {
     "slide_type": "fragment"
    }
   },
   "outputs": [
    {
     "data": {
      "text/html": [
       "<div>\n",
       "<style scoped>\n",
       "    .dataframe tbody tr th:only-of-type {\n",
       "        vertical-align: middle;\n",
       "    }\n",
       "\n",
       "    .dataframe tbody tr th {\n",
       "        vertical-align: top;\n",
       "    }\n",
       "\n",
       "    .dataframe thead th {\n",
       "        text-align: right;\n",
       "    }\n",
       "</style>\n",
       "<table border=\"1\" class=\"dataframe\">\n",
       "  <thead>\n",
       "    <tr style=\"text-align: right;\">\n",
       "      <th></th>\n",
       "      <th>country</th>\n",
       "      <th>year</th>\n",
       "      <th>population</th>\n",
       "    </tr>\n",
       "  </thead>\n",
       "  <tbody>\n",
       "    <tr>\n",
       "      <th>0</th>\n",
       "      <td>Afghanistan</td>\n",
       "      <td>1950</td>\n",
       "      <td>7750000</td>\n",
       "    </tr>\n",
       "    <tr>\n",
       "      <th>1</th>\n",
       "      <td>Afghanistan</td>\n",
       "      <td>1955</td>\n",
       "      <td>8270000</td>\n",
       "    </tr>\n",
       "    <tr>\n",
       "      <th>2</th>\n",
       "      <td>Afghanistan</td>\n",
       "      <td>1960</td>\n",
       "      <td>9000000</td>\n",
       "    </tr>\n",
       "    <tr>\n",
       "      <th>3</th>\n",
       "      <td>Afghanistan</td>\n",
       "      <td>1965</td>\n",
       "      <td>9940000</td>\n",
       "    </tr>\n",
       "    <tr>\n",
       "      <th>4</th>\n",
       "      <td>Afghanistan</td>\n",
       "      <td>1970</td>\n",
       "      <td>11100000</td>\n",
       "    </tr>\n",
       "  </tbody>\n",
       "</table>\n",
       "</div>"
      ],
      "text/plain": [
       "       country  year  population\n",
       "0  Afghanistan  1950     7750000\n",
       "1  Afghanistan  1955     8270000\n",
       "2  Afghanistan  1960     9000000\n",
       "3  Afghanistan  1965     9940000\n",
       "4  Afghanistan  1970    11100000"
      ]
     },
     "execution_count": 7,
     "metadata": {},
     "output_type": "execute_result"
    }
   ],
   "source": [
    "populations = world[['country', 'year', 'population']]\n",
    "populations.head()"
   ]
  },
  {
   "cell_type": "markdown",
   "metadata": {
    "slideshow": {
     "slide_type": "slide"
    }
   },
   "source": [
    "When selecting a larger number of columns, it may also be helpful to assign the list of column names to a separate variable."
   ]
  },
  {
   "cell_type": "code",
   "execution_count": 8,
   "metadata": {
    "slideshow": {
     "slide_type": "fragment"
    }
   },
   "outputs": [
    {
     "data": {
      "text/html": [
       "<div>\n",
       "<style scoped>\n",
       "    .dataframe tbody tr th:only-of-type {\n",
       "        vertical-align: middle;\n",
       "    }\n",
       "\n",
       "    .dataframe tbody tr th {\n",
       "        vertical-align: top;\n",
       "    }\n",
       "\n",
       "    .dataframe thead th {\n",
       "        text-align: right;\n",
       "    }\n",
       "</style>\n",
       "<table border=\"1\" class=\"dataframe\">\n",
       "  <thead>\n",
       "    <tr style=\"text-align: right;\">\n",
       "      <th></th>\n",
       "      <th>country</th>\n",
       "      <th>region</th>\n",
       "      <th>year</th>\n",
       "      <th>population</th>\n",
       "      <th>life_expectancy</th>\n",
       "    </tr>\n",
       "  </thead>\n",
       "  <tbody>\n",
       "    <tr>\n",
       "      <th>0</th>\n",
       "      <td>Afghanistan</td>\n",
       "      <td>Asia</td>\n",
       "      <td>1950</td>\n",
       "      <td>7750000</td>\n",
       "      <td>32.0</td>\n",
       "    </tr>\n",
       "    <tr>\n",
       "      <th>1</th>\n",
       "      <td>Afghanistan</td>\n",
       "      <td>Asia</td>\n",
       "      <td>1955</td>\n",
       "      <td>8270000</td>\n",
       "      <td>35.1</td>\n",
       "    </tr>\n",
       "    <tr>\n",
       "      <th>2</th>\n",
       "      <td>Afghanistan</td>\n",
       "      <td>Asia</td>\n",
       "      <td>1960</td>\n",
       "      <td>9000000</td>\n",
       "      <td>38.6</td>\n",
       "    </tr>\n",
       "    <tr>\n",
       "      <th>3</th>\n",
       "      <td>Afghanistan</td>\n",
       "      <td>Asia</td>\n",
       "      <td>1965</td>\n",
       "      <td>9940000</td>\n",
       "      <td>42.2</td>\n",
       "    </tr>\n",
       "    <tr>\n",
       "      <th>4</th>\n",
       "      <td>Afghanistan</td>\n",
       "      <td>Asia</td>\n",
       "      <td>1970</td>\n",
       "      <td>11100000</td>\n",
       "      <td>45.8</td>\n",
       "    </tr>\n",
       "  </tbody>\n",
       "</table>\n",
       "</div>"
      ],
      "text/plain": [
       "       country region  year  population  life_expectancy\n",
       "0  Afghanistan   Asia  1950     7750000             32.0\n",
       "1  Afghanistan   Asia  1955     8270000             35.1\n",
       "2  Afghanistan   Asia  1960     9000000             38.6\n",
       "3  Afghanistan   Asia  1965     9940000             42.2\n",
       "4  Afghanistan   Asia  1970    11100000             45.8"
      ]
     },
     "execution_count": 8,
     "metadata": {},
     "output_type": "execute_result"
    }
   ],
   "source": [
    "subset_columns = ['country', 'region', 'year', 'population', 'life_expectancy']\n",
    "world_subset = world[subset_columns]\n",
    "world_subset.head()"
   ]
  },
  {
   "cell_type": "markdown",
   "metadata": {
    "slideshow": {
     "slide_type": "slide"
    }
   },
   "source": [
    "### Other methods to select rows and data\n",
    "#### Slicing and Indexing"
   ]
  },
  {
   "cell_type": "markdown",
   "metadata": {
    "slideshow": {
     "slide_type": "fragment"
    }
   },
   "source": [
    "**Slicing:**\n",
    "- Select specific ranges of our data in both the row and column directions using either label or integer-based indexing."
   ]
  },
  {
   "cell_type": "code",
   "execution_count": 9,
   "metadata": {
    "slideshow": {
     "slide_type": "fragment"
    }
   },
   "outputs": [
    {
     "data": {
      "text/html": [
       "<div>\n",
       "<style scoped>\n",
       "    .dataframe tbody tr th:only-of-type {\n",
       "        vertical-align: middle;\n",
       "    }\n",
       "\n",
       "    .dataframe tbody tr th {\n",
       "        vertical-align: top;\n",
       "    }\n",
       "\n",
       "    .dataframe thead th {\n",
       "        text-align: right;\n",
       "    }\n",
       "</style>\n",
       "<table border=\"1\" class=\"dataframe\">\n",
       "  <thead>\n",
       "    <tr style=\"text-align: right;\">\n",
       "      <th></th>\n",
       "      <th>country</th>\n",
       "      <th>region</th>\n",
       "      <th>year</th>\n",
       "      <th>population</th>\n",
       "      <th>life_expectancy</th>\n",
       "    </tr>\n",
       "  </thead>\n",
       "  <tbody>\n",
       "    <tr>\n",
       "      <th>0</th>\n",
       "      <td>Afghanistan</td>\n",
       "      <td>Asia</td>\n",
       "      <td>1950</td>\n",
       "      <td>7750000</td>\n",
       "      <td>32.0</td>\n",
       "    </tr>\n",
       "    <tr>\n",
       "      <th>1</th>\n",
       "      <td>Afghanistan</td>\n",
       "      <td>Asia</td>\n",
       "      <td>1955</td>\n",
       "      <td>8270000</td>\n",
       "      <td>35.1</td>\n",
       "    </tr>\n",
       "    <tr>\n",
       "      <th>2</th>\n",
       "      <td>Afghanistan</td>\n",
       "      <td>Asia</td>\n",
       "      <td>1960</td>\n",
       "      <td>9000000</td>\n",
       "      <td>38.6</td>\n",
       "    </tr>\n",
       "  </tbody>\n",
       "</table>\n",
       "</div>"
      ],
      "text/plain": [
       "       country region  year  population  life_expectancy\n",
       "0  Afghanistan   Asia  1950     7750000             32.0\n",
       "1  Afghanistan   Asia  1955     8270000             35.1\n",
       "2  Afghanistan   Asia  1960     9000000             38.6"
      ]
     },
     "execution_count": 9,
     "metadata": {},
     "output_type": "execute_result"
    }
   ],
   "source": [
    "world_subset[0:3]"
   ]
  },
  {
   "cell_type": "markdown",
   "metadata": {
    "slideshow": {
     "slide_type": "slide"
    }
   },
   "source": [
    "**Indexing:**\n",
    "\n",
    "> - `iloc` is integer based indexing."
   ]
  },
  {
   "cell_type": "code",
   "execution_count": 10,
   "metadata": {
    "slideshow": {
     "slide_type": "fragment"
    }
   },
   "outputs": [
    {
     "data": {
      "text/html": [
       "<div>\n",
       "<style scoped>\n",
       "    .dataframe tbody tr th:only-of-type {\n",
       "        vertical-align: middle;\n",
       "    }\n",
       "\n",
       "    .dataframe tbody tr th {\n",
       "        vertical-align: top;\n",
       "    }\n",
       "\n",
       "    .dataframe thead th {\n",
       "        text-align: right;\n",
       "    }\n",
       "</style>\n",
       "<table border=\"1\" class=\"dataframe\">\n",
       "  <thead>\n",
       "    <tr style=\"text-align: right;\">\n",
       "      <th></th>\n",
       "      <th>region</th>\n",
       "      <th>year</th>\n",
       "      <th>population</th>\n",
       "    </tr>\n",
       "  </thead>\n",
       "  <tbody>\n",
       "    <tr>\n",
       "      <th>0</th>\n",
       "      <td>Asia</td>\n",
       "      <td>1950</td>\n",
       "      <td>7750000</td>\n",
       "    </tr>\n",
       "    <tr>\n",
       "      <th>1</th>\n",
       "      <td>Asia</td>\n",
       "      <td>1955</td>\n",
       "      <td>8270000</td>\n",
       "    </tr>\n",
       "    <tr>\n",
       "      <th>2</th>\n",
       "      <td>Asia</td>\n",
       "      <td>1960</td>\n",
       "      <td>9000000</td>\n",
       "    </tr>\n",
       "  </tbody>\n",
       "</table>\n",
       "</div>"
      ],
      "text/plain": [
       "  region  year  population\n",
       "0   Asia  1950     7750000\n",
       "1   Asia  1955     8270000\n",
       "2   Asia  1960     9000000"
      ]
     },
     "execution_count": 10,
     "metadata": {},
     "output_type": "execute_result"
    }
   ],
   "source": [
    "world_subset.iloc[0:3, 1:4]"
   ]
  },
  {
   "cell_type": "markdown",
   "metadata": {
    "slideshow": {
     "slide_type": "slide"
    }
   },
   "source": [
    "* `loc` is label based indexing. Integers may be used but they are interpreted as a label.\n",
    "* The following code will select rows of index value 0 and 10, and select all the columns."
   ]
  },
  {
   "cell_type": "code",
   "execution_count": 11,
   "metadata": {
    "slideshow": {
     "slide_type": "fragment"
    }
   },
   "outputs": [
    {
     "data": {
      "text/html": [
       "<div>\n",
       "<style scoped>\n",
       "    .dataframe tbody tr th:only-of-type {\n",
       "        vertical-align: middle;\n",
       "    }\n",
       "\n",
       "    .dataframe tbody tr th {\n",
       "        vertical-align: top;\n",
       "    }\n",
       "\n",
       "    .dataframe thead th {\n",
       "        text-align: right;\n",
       "    }\n",
       "</style>\n",
       "<table border=\"1\" class=\"dataframe\">\n",
       "  <thead>\n",
       "    <tr style=\"text-align: right;\">\n",
       "      <th></th>\n",
       "      <th>country</th>\n",
       "      <th>region</th>\n",
       "      <th>year</th>\n",
       "      <th>population</th>\n",
       "      <th>life_expectancy</th>\n",
       "    </tr>\n",
       "  </thead>\n",
       "  <tbody>\n",
       "    <tr>\n",
       "      <th>0</th>\n",
       "      <td>Afghanistan</td>\n",
       "      <td>Asia</td>\n",
       "      <td>1950</td>\n",
       "      <td>7750000</td>\n",
       "      <td>32.0</td>\n",
       "    </tr>\n",
       "    <tr>\n",
       "      <th>10</th>\n",
       "      <td>Afghanistan</td>\n",
       "      <td>Asia</td>\n",
       "      <td>2000</td>\n",
       "      <td>20100000</td>\n",
       "      <td>51.6</td>\n",
       "    </tr>\n",
       "  </tbody>\n",
       "</table>\n",
       "</div>"
      ],
      "text/plain": [
       "        country region  year  population  life_expectancy\n",
       "0   Afghanistan   Asia  1950     7750000             32.0\n",
       "10  Afghanistan   Asia  2000    20100000             51.6"
      ]
     },
     "execution_count": 11,
     "metadata": {},
     "output_type": "execute_result"
    }
   ],
   "source": [
    "# Select all columns for rows of index values 0 and 10\n",
    "world_subset.loc[[0, 10], :]"
   ]
  },
  {
   "cell_type": "markdown",
   "metadata": {},
   "source": [
    "* The following code will select row of index 0, and only the columns of region, life_expectancy, and year."
   ]
  },
  {
   "cell_type": "code",
   "execution_count": 12,
   "metadata": {
    "slideshow": {
     "slide_type": "fragment"
    }
   },
   "outputs": [
    {
     "data": {
      "text/plain": [
       "region             Asia\n",
       "life_expectancy    32.0\n",
       "year               1950\n",
       "Name: 0, dtype: object"
      ]
     },
     "execution_count": 12,
     "metadata": {},
     "output_type": "execute_result"
    }
   ],
   "source": [
    "world_subset.loc[0, ['region', 'life_expectancy', 'year']]"
   ]
  },
  {
   "cell_type": "markdown",
   "metadata": {},
   "source": [
    "* The following code will select rows of index values 1, 2, and 3."
   ]
  },
  {
   "cell_type": "code",
   "execution_count": 13,
   "metadata": {
    "slideshow": {
     "slide_type": "slide"
    }
   },
   "outputs": [
    {
     "data": {
      "text/html": [
       "<div>\n",
       "<style scoped>\n",
       "    .dataframe tbody tr th:only-of-type {\n",
       "        vertical-align: middle;\n",
       "    }\n",
       "\n",
       "    .dataframe tbody tr th {\n",
       "        vertical-align: top;\n",
       "    }\n",
       "\n",
       "    .dataframe thead th {\n",
       "        text-align: right;\n",
       "    }\n",
       "</style>\n",
       "<table border=\"1\" class=\"dataframe\">\n",
       "  <thead>\n",
       "    <tr style=\"text-align: right;\">\n",
       "      <th></th>\n",
       "      <th>country</th>\n",
       "      <th>region</th>\n",
       "      <th>year</th>\n",
       "      <th>population</th>\n",
       "      <th>life_expectancy</th>\n",
       "    </tr>\n",
       "  </thead>\n",
       "  <tbody>\n",
       "    <tr>\n",
       "      <th>1</th>\n",
       "      <td>Afghanistan</td>\n",
       "      <td>Asia</td>\n",
       "      <td>1955</td>\n",
       "      <td>8270000</td>\n",
       "      <td>35.1</td>\n",
       "    </tr>\n",
       "    <tr>\n",
       "      <th>2</th>\n",
       "      <td>Afghanistan</td>\n",
       "      <td>Asia</td>\n",
       "      <td>1960</td>\n",
       "      <td>9000000</td>\n",
       "      <td>38.6</td>\n",
       "    </tr>\n",
       "    <tr>\n",
       "      <th>3</th>\n",
       "      <td>Afghanistan</td>\n",
       "      <td>Asia</td>\n",
       "      <td>1965</td>\n",
       "      <td>9940000</td>\n",
       "      <td>42.2</td>\n",
       "    </tr>\n",
       "  </tbody>\n",
       "</table>\n",
       "</div>"
      ],
      "text/plain": [
       "       country region  year  population  life_expectancy\n",
       "1  Afghanistan   Asia  1955     8270000             35.1\n",
       "2  Afghanistan   Asia  1960     9000000             38.6\n",
       "3  Afghanistan   Asia  1965     9940000             42.2"
      ]
     },
     "execution_count": 13,
     "metadata": {},
     "output_type": "execute_result"
    }
   ],
   "source": [
    "world_subset.iloc[1:4]"
   ]
  },
  {
   "cell_type": "markdown",
   "metadata": {
    "slideshow": {
     "slide_type": "slide"
    }
   },
   "source": [
    "### Unique Values in a Column\n",
    "\n",
    "If we just want a list of unique values, we can use the `unique()` method:"
   ]
  },
  {
   "cell_type": "code",
   "execution_count": 14,
   "metadata": {},
   "outputs": [
    {
     "data": {
      "text/plain": [
       "array([1950, 1955, 1960, 1965, 1970, 1975, 1980, 1985, 1990, 1995, 2000,\n",
       "       2005, 2010, 2015])"
      ]
     },
     "execution_count": 14,
     "metadata": {},
     "output_type": "execute_result"
    }
   ],
   "source": [
    "world['year'].unique()"
   ]
  },
  {
   "cell_type": "markdown",
   "metadata": {},
   "source": [
    "If we just want to know how many unique values there are in a column, we can use the `nunique()` method:"
   ]
  },
  {
   "cell_type": "code",
   "execution_count": null,
   "metadata": {},
   "outputs": [],
   "source": [
    "world['sub_region'].nunique()"
   ]
  },
  {
   "cell_type": "markdown",
   "metadata": {},
   "source": [
    "### Sorting Values\n",
    "\n",
    "A helpful way to summarize categorical data (such as names of countries and regions) is use the `value_counts()` method to count the unique values in that column:\n"
   ]
  },
  {
   "cell_type": "code",
   "execution_count": 6,
   "metadata": {
    "slideshow": {
     "slide_type": "fragment"
    }
   },
   "outputs": [
    {
     "data": {
      "text/plain": [
       "Sub-Saharan Africa                 644\n",
       "Latin America and the Caribbean    406\n",
       "Western Asia                       252\n",
       "Southern Europe                    168\n",
       "Eastern Europe                     140\n",
       "Northern Europe                    140\n",
       "South-eastern Asia                 140\n",
       "Southern Asia                      126\n",
       "Western Europe                      98\n",
       "Northern Africa                     84\n",
       "Eastern Asia                        70\n",
       "Central Asia                        70\n",
       "Melanesia                           56\n",
       "Australia and New Zealand           28\n",
       "Northern America                    28\n",
       "Polynesia                           28\n",
       "Micronesia                          14\n",
       "Name: sub_region, dtype: int64"
      ]
     },
     "execution_count": 6,
     "metadata": {},
     "output_type": "execute_result"
    }
   ],
   "source": [
    "world['sub_region'].value_counts()"
   ]
  },
  {
   "cell_type": "markdown",
   "metadata": {
    "slideshow": {
     "slide_type": "slide"
    }
   },
   "source": [
    "The output above tells us, for example, that 644 of the observations in our data are for Sub-Saharan Africa (recall that each row is an observation corresponding to a single country in a single year).\n",
    "\n",
    "- By default, `value_counts()` sorts the output from highest count to lowest\n",
    "- To sort by the sub-region name, we can chain the `sort_index()` method"
   ]
  },
  {
   "cell_type": "code",
   "execution_count": 16,
   "metadata": {
    "slideshow": {
     "slide_type": "fragment"
    }
   },
   "outputs": [
    {
     "data": {
      "text/html": [
       "<div>\n",
       "<style scoped>\n",
       "    .dataframe tbody tr th:only-of-type {\n",
       "        vertical-align: middle;\n",
       "    }\n",
       "\n",
       "    .dataframe tbody tr th {\n",
       "        vertical-align: top;\n",
       "    }\n",
       "\n",
       "    .dataframe thead th {\n",
       "        text-align: right;\n",
       "    }\n",
       "</style>\n",
       "<table border=\"1\" class=\"dataframe\">\n",
       "  <thead>\n",
       "    <tr style=\"text-align: right;\">\n",
       "      <th></th>\n",
       "      <th>country</th>\n",
       "      <th>year</th>\n",
       "      <th>population</th>\n",
       "      <th>region</th>\n",
       "      <th>sub_region</th>\n",
       "      <th>income_group</th>\n",
       "      <th>life_expectancy</th>\n",
       "      <th>gdp_per_capita</th>\n",
       "      <th>children_per_woman</th>\n",
       "      <th>child_mortality</th>\n",
       "      <th>pop_density</th>\n",
       "      <th>years_in_school_men</th>\n",
       "      <th>years_in_school_women</th>\n",
       "    </tr>\n",
       "  </thead>\n",
       "  <tbody>\n",
       "    <tr>\n",
       "      <th>0</th>\n",
       "      <td>Afghanistan</td>\n",
       "      <td>1950</td>\n",
       "      <td>7750000</td>\n",
       "      <td>Asia</td>\n",
       "      <td>Southern Asia</td>\n",
       "      <td>Low</td>\n",
       "      <td>32.0</td>\n",
       "      <td>1040</td>\n",
       "      <td>7.57</td>\n",
       "      <td>425.0</td>\n",
       "      <td>11.90</td>\n",
       "      <td>NaN</td>\n",
       "      <td>NaN</td>\n",
       "    </tr>\n",
       "    <tr>\n",
       "      <th>938</th>\n",
       "      <td>Haiti</td>\n",
       "      <td>1950</td>\n",
       "      <td>3220000</td>\n",
       "      <td>Americas</td>\n",
       "      <td>Latin America and the Caribbean</td>\n",
       "      <td>Low</td>\n",
       "      <td>35.3</td>\n",
       "      <td>2290</td>\n",
       "      <td>6.31</td>\n",
       "      <td>352.0</td>\n",
       "      <td>117.00</td>\n",
       "      <td>NaN</td>\n",
       "      <td>NaN</td>\n",
       "    </tr>\n",
       "    <tr>\n",
       "      <th>924</th>\n",
       "      <td>Guyana</td>\n",
       "      <td>1950</td>\n",
       "      <td>407000</td>\n",
       "      <td>Americas</td>\n",
       "      <td>Latin America and the Caribbean</td>\n",
       "      <td>Upper middle</td>\n",
       "      <td>58.0</td>\n",
       "      <td>4060</td>\n",
       "      <td>5.48</td>\n",
       "      <td>155.0</td>\n",
       "      <td>2.07</td>\n",
       "      <td>NaN</td>\n",
       "      <td>NaN</td>\n",
       "    </tr>\n",
       "    <tr>\n",
       "      <th>910</th>\n",
       "      <td>Guinea-Bissau</td>\n",
       "      <td>1950</td>\n",
       "      <td>535000</td>\n",
       "      <td>Africa</td>\n",
       "      <td>Sub-Saharan Africa</td>\n",
       "      <td>Low</td>\n",
       "      <td>36.2</td>\n",
       "      <td>837</td>\n",
       "      <td>7.09</td>\n",
       "      <td>339.0</td>\n",
       "      <td>19.00</td>\n",
       "      <td>NaN</td>\n",
       "      <td>NaN</td>\n",
       "    </tr>\n",
       "    <tr>\n",
       "      <th>896</th>\n",
       "      <td>Guinea</td>\n",
       "      <td>1950</td>\n",
       "      <td>3090000</td>\n",
       "      <td>Africa</td>\n",
       "      <td>Sub-Saharan Africa</td>\n",
       "      <td>Low</td>\n",
       "      <td>38.5</td>\n",
       "      <td>614</td>\n",
       "      <td>5.98</td>\n",
       "      <td>364.0</td>\n",
       "      <td>12.60</td>\n",
       "      <td>NaN</td>\n",
       "      <td>NaN</td>\n",
       "    </tr>\n",
       "    <tr>\n",
       "      <th>...</th>\n",
       "      <td>...</td>\n",
       "      <td>...</td>\n",
       "      <td>...</td>\n",
       "      <td>...</td>\n",
       "      <td>...</td>\n",
       "      <td>...</td>\n",
       "      <td>...</td>\n",
       "      <td>...</td>\n",
       "      <td>...</td>\n",
       "      <td>...</td>\n",
       "      <td>...</td>\n",
       "      <td>...</td>\n",
       "      <td>...</td>\n",
       "    </tr>\n",
       "    <tr>\n",
       "      <th>1511</th>\n",
       "      <td>Morocco</td>\n",
       "      <td>2015</td>\n",
       "      <td>34800000</td>\n",
       "      <td>Africa</td>\n",
       "      <td>Northern Africa</td>\n",
       "      <td>Lower middle</td>\n",
       "      <td>74.8</td>\n",
       "      <td>7290</td>\n",
       "      <td>2.53</td>\n",
       "      <td>28.0</td>\n",
       "      <td>78.00</td>\n",
       "      <td>6.83</td>\n",
       "      <td>4.84</td>\n",
       "    </tr>\n",
       "    <tr>\n",
       "      <th>1497</th>\n",
       "      <td>Montenegro</td>\n",
       "      <td>2015</td>\n",
       "      <td>628000</td>\n",
       "      <td>Europe</td>\n",
       "      <td>Southern Europe</td>\n",
       "      <td>Upper middle</td>\n",
       "      <td>76.9</td>\n",
       "      <td>15300</td>\n",
       "      <td>1.68</td>\n",
       "      <td>4.1</td>\n",
       "      <td>46.70</td>\n",
       "      <td>12.90</td>\n",
       "      <td>13.10</td>\n",
       "    </tr>\n",
       "    <tr>\n",
       "      <th>1483</th>\n",
       "      <td>Mongolia</td>\n",
       "      <td>2015</td>\n",
       "      <td>2980000</td>\n",
       "      <td>Asia</td>\n",
       "      <td>Eastern Asia</td>\n",
       "      <td>Lower middle</td>\n",
       "      <td>68.2</td>\n",
       "      <td>11400</td>\n",
       "      <td>2.79</td>\n",
       "      <td>18.8</td>\n",
       "      <td>1.92</td>\n",
       "      <td>10.80</td>\n",
       "      <td>12.10</td>\n",
       "    </tr>\n",
       "    <tr>\n",
       "      <th>1455</th>\n",
       "      <td>Mexico</td>\n",
       "      <td>2015</td>\n",
       "      <td>126000000</td>\n",
       "      <td>Americas</td>\n",
       "      <td>Latin America and the Caribbean</td>\n",
       "      <td>Upper middle</td>\n",
       "      <td>76.2</td>\n",
       "      <td>16700</td>\n",
       "      <td>2.22</td>\n",
       "      <td>15.0</td>\n",
       "      <td>64.80</td>\n",
       "      <td>10.80</td>\n",
       "      <td>10.80</td>\n",
       "    </tr>\n",
       "    <tr>\n",
       "      <th>2491</th>\n",
       "      <td>Zimbabwe</td>\n",
       "      <td>2015</td>\n",
       "      <td>15800000</td>\n",
       "      <td>Africa</td>\n",
       "      <td>Sub-Saharan Africa</td>\n",
       "      <td>Low</td>\n",
       "      <td>58.3</td>\n",
       "      <td>1890</td>\n",
       "      <td>3.84</td>\n",
       "      <td>59.9</td>\n",
       "      <td>40.80</td>\n",
       "      <td>11.10</td>\n",
       "      <td>10.20</td>\n",
       "    </tr>\n",
       "  </tbody>\n",
       "</table>\n",
       "<p>2492 rows × 13 columns</p>\n",
       "</div>"
      ],
      "text/plain": [
       "            country  year  population    region  \\\n",
       "0       Afghanistan  1950     7750000      Asia   \n",
       "938           Haiti  1950     3220000  Americas   \n",
       "924          Guyana  1950      407000  Americas   \n",
       "910   Guinea-Bissau  1950      535000    Africa   \n",
       "896          Guinea  1950     3090000    Africa   \n",
       "...             ...   ...         ...       ...   \n",
       "1511        Morocco  2015    34800000    Africa   \n",
       "1497     Montenegro  2015      628000    Europe   \n",
       "1483       Mongolia  2015     2980000      Asia   \n",
       "1455         Mexico  2015   126000000  Americas   \n",
       "2491       Zimbabwe  2015    15800000    Africa   \n",
       "\n",
       "                           sub_region  income_group  life_expectancy  \\\n",
       "0                       Southern Asia           Low             32.0   \n",
       "938   Latin America and the Caribbean           Low             35.3   \n",
       "924   Latin America and the Caribbean  Upper middle             58.0   \n",
       "910                Sub-Saharan Africa           Low             36.2   \n",
       "896                Sub-Saharan Africa           Low             38.5   \n",
       "...                               ...           ...              ...   \n",
       "1511                  Northern Africa  Lower middle             74.8   \n",
       "1497                  Southern Europe  Upper middle             76.9   \n",
       "1483                     Eastern Asia  Lower middle             68.2   \n",
       "1455  Latin America and the Caribbean  Upper middle             76.2   \n",
       "2491               Sub-Saharan Africa           Low             58.3   \n",
       "\n",
       "      gdp_per_capita  children_per_woman  child_mortality  pop_density  \\\n",
       "0               1040                7.57            425.0        11.90   \n",
       "938             2290                6.31            352.0       117.00   \n",
       "924             4060                5.48            155.0         2.07   \n",
       "910              837                7.09            339.0        19.00   \n",
       "896              614                5.98            364.0        12.60   \n",
       "...              ...                 ...              ...          ...   \n",
       "1511            7290                2.53             28.0        78.00   \n",
       "1497           15300                1.68              4.1        46.70   \n",
       "1483           11400                2.79             18.8         1.92   \n",
       "1455           16700                2.22             15.0        64.80   \n",
       "2491            1890                3.84             59.9        40.80   \n",
       "\n",
       "      years_in_school_men  years_in_school_women  \n",
       "0                     NaN                    NaN  \n",
       "938                   NaN                    NaN  \n",
       "924                   NaN                    NaN  \n",
       "910                   NaN                    NaN  \n",
       "896                   NaN                    NaN  \n",
       "...                   ...                    ...  \n",
       "1511                 6.83                   4.84  \n",
       "1497                12.90                  13.10  \n",
       "1483                10.80                  12.10  \n",
       "1455                10.80                  10.80  \n",
       "2491                11.10                  10.20  \n",
       "\n",
       "[2492 rows x 13 columns]"
      ]
     },
     "execution_count": 16,
     "metadata": {},
     "output_type": "execute_result"
    }
   ],
   "source": [
    "world.sort_values(by='year', ascending=True)"
   ]
  },
  {
   "cell_type": "markdown",
   "metadata": {
    "slideshow": {
     "slide_type": "slide"
    }
   },
   "source": [
    "## Selecting Rows\n",
    "\n",
    "Similar to applying a filter in Excel, we can extract rows from a DataFrame or Series based on a criteria.\n",
    "\n",
    "For example, suppose we want to select the rows where the life expectancy is greater than 82 years\n",
    "\n",
    "First we use the comparison operator `>` on the `life_expectancy` column:"
   ]
  },
  {
   "cell_type": "code",
   "execution_count": 18,
   "metadata": {
    "slideshow": {
     "slide_type": "slide"
    }
   },
   "outputs": [
    {
     "data": {
      "text/plain": [
       "0       False\n",
       "1       False\n",
       "2       False\n",
       "3       False\n",
       "4       False\n",
       "        ...  \n",
       "2487    False\n",
       "2488    False\n",
       "2489    False\n",
       "2490    False\n",
       "2491    False\n",
       "Name: life_expectancy, Length: 2492, dtype: bool"
      ]
     },
     "execution_count": 18,
     "metadata": {},
     "output_type": "execute_result"
    }
   ],
   "source": [
    "world['life_expectancy'] > 82"
   ]
  },
  {
   "cell_type": "markdown",
   "metadata": {
    "slideshow": {
     "slide_type": "slide"
    }
   },
   "source": [
    "The result is a Series with a Boolean value for each row in the dataframe, indicating whether it is `True` or `False` -- whether a row has a value above 82 in the column `life_expectancy`."
   ]
  },
  {
   "cell_type": "markdown",
   "metadata": {
    "slideshow": {
     "slide_type": "fragment"
    }
   },
   "source": [
    "We can find out how many rows match this condition, by using the `sum()` method\n",
    "- In Python, the Boolean value of `True` has a value of 1, and `False` has a value of 0."
   ]
  },
  {
   "cell_type": "code",
   "execution_count": 19,
   "metadata": {
    "slideshow": {
     "slide_type": "fragment"
    }
   },
   "outputs": [
    {
     "data": {
      "text/plain": [
       "13"
      ]
     },
     "execution_count": 19,
     "metadata": {},
     "output_type": "execute_result"
    }
   ],
   "source": [
    "above_82 = world['life_expectancy'] > 82\n",
    "above_82.sum()"
   ]
  },
  {
   "cell_type": "markdown",
   "metadata": {
    "slideshow": {
     "slide_type": "slide"
    }
   },
   "source": [
    "We can use a Boolean Series (this is a Series ofo Booleans) as a **filter** to extract the rows of `world` which have life expectancy above 82\n",
    "- Previously we used square brackets and a column name or list of column names to extract *column(s)* from a DataFrame (e.g. `df['X']`)\n",
    "- Now we use square brackets and a Boolean Series to extract *rows* from a DataFrame"
   ]
  },
  {
   "cell_type": "code",
   "execution_count": 20,
   "metadata": {
    "slideshow": {
     "slide_type": "fragment"
    }
   },
   "outputs": [
    {
     "data": {
      "text/html": [
       "<div>\n",
       "<style scoped>\n",
       "    .dataframe tbody tr th:only-of-type {\n",
       "        vertical-align: middle;\n",
       "    }\n",
       "\n",
       "    .dataframe tbody tr th {\n",
       "        vertical-align: top;\n",
       "    }\n",
       "\n",
       "    .dataframe thead th {\n",
       "        text-align: right;\n",
       "    }\n",
       "</style>\n",
       "<table border=\"1\" class=\"dataframe\">\n",
       "  <thead>\n",
       "    <tr style=\"text-align: right;\">\n",
       "      <th></th>\n",
       "      <th>country</th>\n",
       "      <th>year</th>\n",
       "      <th>population</th>\n",
       "      <th>region</th>\n",
       "      <th>sub_region</th>\n",
       "      <th>income_group</th>\n",
       "      <th>life_expectancy</th>\n",
       "      <th>gdp_per_capita</th>\n",
       "      <th>children_per_woman</th>\n",
       "      <th>child_mortality</th>\n",
       "      <th>pop_density</th>\n",
       "      <th>years_in_school_men</th>\n",
       "      <th>years_in_school_women</th>\n",
       "    </tr>\n",
       "  </thead>\n",
       "  <tbody>\n",
       "    <tr>\n",
       "      <th>110</th>\n",
       "      <td>Australia</td>\n",
       "      <td>2010</td>\n",
       "      <td>22100000</td>\n",
       "      <td>Oceania</td>\n",
       "      <td>Australia and New Zealand</td>\n",
       "      <td>High</td>\n",
       "      <td>82.0</td>\n",
       "      <td>41400</td>\n",
       "      <td>1.93</td>\n",
       "      <td>4.8</td>\n",
       "      <td>2.88</td>\n",
       "      <td>13.5</td>\n",
       "      <td>13.8</td>\n",
       "    </tr>\n",
       "    <tr>\n",
       "      <th>111</th>\n",
       "      <td>Australia</td>\n",
       "      <td>2015</td>\n",
       "      <td>23800000</td>\n",
       "      <td>Oceania</td>\n",
       "      <td>Australia and New Zealand</td>\n",
       "      <td>High</td>\n",
       "      <td>82.6</td>\n",
       "      <td>43800</td>\n",
       "      <td>1.86</td>\n",
       "      <td>3.8</td>\n",
       "      <td>3.10</td>\n",
       "      <td>14.2</td>\n",
       "      <td>14.5</td>\n",
       "    </tr>\n",
       "    <tr>\n",
       "      <th>783</th>\n",
       "      <td>France</td>\n",
       "      <td>2015</td>\n",
       "      <td>64500000</td>\n",
       "      <td>Europe</td>\n",
       "      <td>Western Europe</td>\n",
       "      <td>High</td>\n",
       "      <td>82.2</td>\n",
       "      <td>37800</td>\n",
       "      <td>1.98</td>\n",
       "      <td>3.9</td>\n",
       "      <td>118.00</td>\n",
       "      <td>13.2</td>\n",
       "      <td>14.0</td>\n",
       "    </tr>\n",
       "    <tr>\n",
       "      <th>992</th>\n",
       "      <td>Iceland</td>\n",
       "      <td>2010</td>\n",
       "      <td>320000</td>\n",
       "      <td>Europe</td>\n",
       "      <td>Northern Europe</td>\n",
       "      <td>High</td>\n",
       "      <td>82.0</td>\n",
       "      <td>38800</td>\n",
       "      <td>2.07</td>\n",
       "      <td>2.6</td>\n",
       "      <td>3.20</td>\n",
       "      <td>13.3</td>\n",
       "      <td>14.2</td>\n",
       "    </tr>\n",
       "    <tr>\n",
       "      <th>993</th>\n",
       "      <td>Iceland</td>\n",
       "      <td>2015</td>\n",
       "      <td>330000</td>\n",
       "      <td>Europe</td>\n",
       "      <td>Northern Europe</td>\n",
       "      <td>High</td>\n",
       "      <td>82.2</td>\n",
       "      <td>42700</td>\n",
       "      <td>1.95</td>\n",
       "      <td>2.2</td>\n",
       "      <td>3.29</td>\n",
       "      <td>13.9</td>\n",
       "      <td>14.9</td>\n",
       "    </tr>\n",
       "  </tbody>\n",
       "</table>\n",
       "</div>"
      ],
      "text/plain": [
       "       country  year  population   region                 sub_region  \\\n",
       "110  Australia  2010    22100000  Oceania  Australia and New Zealand   \n",
       "111  Australia  2015    23800000  Oceania  Australia and New Zealand   \n",
       "783     France  2015    64500000   Europe             Western Europe   \n",
       "992    Iceland  2010      320000   Europe            Northern Europe   \n",
       "993    Iceland  2015      330000   Europe            Northern Europe   \n",
       "\n",
       "    income_group  life_expectancy  gdp_per_capita  children_per_woman  \\\n",
       "110         High             82.0           41400                1.93   \n",
       "111         High             82.6           43800                1.86   \n",
       "783         High             82.2           37800                1.98   \n",
       "992         High             82.0           38800                2.07   \n",
       "993         High             82.2           42700                1.95   \n",
       "\n",
       "     child_mortality  pop_density  years_in_school_men  years_in_school_women  \n",
       "110              4.8         2.88                 13.5                   13.8  \n",
       "111              3.8         3.10                 14.2                   14.5  \n",
       "783              3.9       118.00                 13.2                   14.0  \n",
       "992              2.6         3.20                 13.3                   14.2  \n",
       "993              2.2         3.29                 13.9                   14.9  "
      ]
     },
     "execution_count": 20,
     "metadata": {},
     "output_type": "execute_result"
    }
   ],
   "source": [
    "world[world['life_expectancy'] >= 82].head(5)"
   ]
  },
  {
   "cell_type": "markdown",
   "metadata": {
    "slideshow": {
     "slide_type": "slide"
    }
   },
   "source": [
    "- The output is a DataFrame containing only the 13 rows of `world` matching our criteria\n",
    "- We can see which countries and years with life expectancy above 82 are:\n",
    "  - Australia, France, Iceland, Italy, Japan, Norway, Singapore, Spain, Sweden and Switzerland in 2015\n",
    "  - Japan, Singapore, and Switzerland in 2010"
   ]
  },
  {
   "cell_type": "markdown",
   "metadata": {
    "slideshow": {
     "slide_type": "slide"
    }
   },
   "source": [
    "We can use any of the comparison operators (`>`, `>=`, `<`, `<=`, `==`, `!=`) on a DataFrame column to create Boolean Series for filtering our data\n",
    "\n",
    "Select data for East Asian countries:"
   ]
  },
  {
   "cell_type": "code",
   "execution_count": 21,
   "metadata": {
    "slideshow": {
     "slide_type": "fragment"
    }
   },
   "outputs": [
    {
     "data": {
      "text/html": [
       "<div>\n",
       "<style scoped>\n",
       "    .dataframe tbody tr th:only-of-type {\n",
       "        vertical-align: middle;\n",
       "    }\n",
       "\n",
       "    .dataframe tbody tr th {\n",
       "        vertical-align: top;\n",
       "    }\n",
       "\n",
       "    .dataframe thead th {\n",
       "        text-align: right;\n",
       "    }\n",
       "</style>\n",
       "<table border=\"1\" class=\"dataframe\">\n",
       "  <thead>\n",
       "    <tr style=\"text-align: right;\">\n",
       "      <th></th>\n",
       "      <th>country</th>\n",
       "      <th>year</th>\n",
       "      <th>population</th>\n",
       "      <th>region</th>\n",
       "      <th>sub_region</th>\n",
       "      <th>income_group</th>\n",
       "      <th>life_expectancy</th>\n",
       "      <th>gdp_per_capita</th>\n",
       "      <th>children_per_woman</th>\n",
       "      <th>child_mortality</th>\n",
       "      <th>pop_density</th>\n",
       "      <th>years_in_school_men</th>\n",
       "      <th>years_in_school_women</th>\n",
       "    </tr>\n",
       "  </thead>\n",
       "  <tbody>\n",
       "    <tr>\n",
       "      <th>448</th>\n",
       "      <td>China</td>\n",
       "      <td>1950</td>\n",
       "      <td>554000000</td>\n",
       "      <td>Asia</td>\n",
       "      <td>Eastern Asia</td>\n",
       "      <td>Upper middle</td>\n",
       "      <td>40.7</td>\n",
       "      <td>536</td>\n",
       "      <td>5.29</td>\n",
       "      <td>317.0</td>\n",
       "      <td>59.1</td>\n",
       "      <td>NaN</td>\n",
       "      <td>NaN</td>\n",
       "    </tr>\n",
       "    <tr>\n",
       "      <th>449</th>\n",
       "      <td>China</td>\n",
       "      <td>1955</td>\n",
       "      <td>611000000</td>\n",
       "      <td>Asia</td>\n",
       "      <td>Eastern Asia</td>\n",
       "      <td>Upper middle</td>\n",
       "      <td>47.0</td>\n",
       "      <td>708</td>\n",
       "      <td>5.98</td>\n",
       "      <td>291.0</td>\n",
       "      <td>65.1</td>\n",
       "      <td>NaN</td>\n",
       "      <td>NaN</td>\n",
       "    </tr>\n",
       "    <tr>\n",
       "      <th>450</th>\n",
       "      <td>China</td>\n",
       "      <td>1960</td>\n",
       "      <td>658000000</td>\n",
       "      <td>Asia</td>\n",
       "      <td>Eastern Asia</td>\n",
       "      <td>Upper middle</td>\n",
       "      <td>30.9</td>\n",
       "      <td>891</td>\n",
       "      <td>3.99</td>\n",
       "      <td>309.0</td>\n",
       "      <td>70.1</td>\n",
       "      <td>NaN</td>\n",
       "      <td>NaN</td>\n",
       "    </tr>\n",
       "  </tbody>\n",
       "</table>\n",
       "</div>"
      ],
      "text/plain": [
       "    country  year  population region    sub_region  income_group  \\\n",
       "448   China  1950   554000000   Asia  Eastern Asia  Upper middle   \n",
       "449   China  1955   611000000   Asia  Eastern Asia  Upper middle   \n",
       "450   China  1960   658000000   Asia  Eastern Asia  Upper middle   \n",
       "\n",
       "     life_expectancy  gdp_per_capita  children_per_woman  child_mortality  \\\n",
       "448             40.7             536                5.29            317.0   \n",
       "449             47.0             708                5.98            291.0   \n",
       "450             30.9             891                3.99            309.0   \n",
       "\n",
       "     pop_density  years_in_school_men  years_in_school_women  \n",
       "448         59.1                  NaN                    NaN  \n",
       "449         65.1                  NaN                    NaN  \n",
       "450         70.1                  NaN                    NaN  "
      ]
     },
     "execution_count": 21,
     "metadata": {},
     "output_type": "execute_result"
    }
   ],
   "source": [
    "east_asia = world[world['sub_region'] == 'Eastern Asia']\n",
    "east_asia.head(3)"
   ]
  },
  {
   "cell_type": "markdown",
   "metadata": {},
   "source": []
  },
  {
   "cell_type": "markdown",
   "metadata": {
    "slideshow": {
     "slide_type": "slide"
    }
   },
   "source": [
    "We can filter the East Asian data further to select the year 2015:"
   ]
  },
  {
   "cell_type": "code",
   "execution_count": 22,
   "metadata": {
    "slideshow": {
     "slide_type": "fragment"
    }
   },
   "outputs": [
    {
     "data": {
      "text/html": [
       "<div>\n",
       "<style scoped>\n",
       "    .dataframe tbody tr th:only-of-type {\n",
       "        vertical-align: middle;\n",
       "    }\n",
       "\n",
       "    .dataframe tbody tr th {\n",
       "        vertical-align: top;\n",
       "    }\n",
       "\n",
       "    .dataframe thead th {\n",
       "        text-align: right;\n",
       "    }\n",
       "</style>\n",
       "<table border=\"1\" class=\"dataframe\">\n",
       "  <thead>\n",
       "    <tr style=\"text-align: right;\">\n",
       "      <th></th>\n",
       "      <th>country</th>\n",
       "      <th>year</th>\n",
       "      <th>population</th>\n",
       "      <th>region</th>\n",
       "      <th>sub_region</th>\n",
       "      <th>income_group</th>\n",
       "      <th>life_expectancy</th>\n",
       "      <th>gdp_per_capita</th>\n",
       "      <th>children_per_woman</th>\n",
       "      <th>child_mortality</th>\n",
       "      <th>pop_density</th>\n",
       "      <th>years_in_school_men</th>\n",
       "      <th>years_in_school_women</th>\n",
       "    </tr>\n",
       "  </thead>\n",
       "  <tbody>\n",
       "    <tr>\n",
       "      <th>461</th>\n",
       "      <td>China</td>\n",
       "      <td>2015</td>\n",
       "      <td>1400000000</td>\n",
       "      <td>Asia</td>\n",
       "      <td>Eastern Asia</td>\n",
       "      <td>Upper middle</td>\n",
       "      <td>76.3</td>\n",
       "      <td>13600</td>\n",
       "      <td>1.62</td>\n",
       "      <td>10.7</td>\n",
       "      <td>149.00</td>\n",
       "      <td>11.0</td>\n",
       "      <td>9.82</td>\n",
       "    </tr>\n",
       "    <tr>\n",
       "      <th>1119</th>\n",
       "      <td>Japan</td>\n",
       "      <td>2015</td>\n",
       "      <td>128000000</td>\n",
       "      <td>Asia</td>\n",
       "      <td>Eastern Asia</td>\n",
       "      <td>High</td>\n",
       "      <td>83.8</td>\n",
       "      <td>37800</td>\n",
       "      <td>1.44</td>\n",
       "      <td>3.0</td>\n",
       "      <td>351.00</td>\n",
       "      <td>15.1</td>\n",
       "      <td>15.50</td>\n",
       "    </tr>\n",
       "    <tr>\n",
       "      <th>1483</th>\n",
       "      <td>Mongolia</td>\n",
       "      <td>2015</td>\n",
       "      <td>2980000</td>\n",
       "      <td>Asia</td>\n",
       "      <td>Eastern Asia</td>\n",
       "      <td>Lower middle</td>\n",
       "      <td>68.2</td>\n",
       "      <td>11400</td>\n",
       "      <td>2.79</td>\n",
       "      <td>18.8</td>\n",
       "      <td>1.92</td>\n",
       "      <td>10.8</td>\n",
       "      <td>12.10</td>\n",
       "    </tr>\n",
       "  </tbody>\n",
       "</table>\n",
       "</div>"
      ],
      "text/plain": [
       "       country  year  population region    sub_region  income_group  \\\n",
       "461      China  2015  1400000000   Asia  Eastern Asia  Upper middle   \n",
       "1119     Japan  2015   128000000   Asia  Eastern Asia          High   \n",
       "1483  Mongolia  2015     2980000   Asia  Eastern Asia  Lower middle   \n",
       "\n",
       "      life_expectancy  gdp_per_capita  children_per_woman  child_mortality  \\\n",
       "461              76.3           13600                1.62             10.7   \n",
       "1119             83.8           37800                1.44              3.0   \n",
       "1483             68.2           11400                2.79             18.8   \n",
       "\n",
       "      pop_density  years_in_school_men  years_in_school_women  \n",
       "461        149.00                 11.0                   9.82  \n",
       "1119       351.00                 15.1                  15.50  \n",
       "1483         1.92                 10.8                  12.10  "
      ]
     },
     "execution_count": 22,
     "metadata": {},
     "output_type": "execute_result"
    }
   ],
   "source": [
    "east_asia_2015 = east_asia[east_asia['year'] == 2015]\n",
    "east_asia_2015.head(3)"
   ]
  },
  {
   "cell_type": "markdown",
   "metadata": {
    "slideshow": {
     "slide_type": "slide"
    }
   },
   "source": [
    "## Selecting Rows and Columns\n",
    "### How to Access Data in the table? \n",
    "\n",
    "To select rows and columns at the same time, we use the syntax `.loc[<rows>, <columns>]`:"
   ]
  },
  {
   "cell_type": "code",
   "execution_count": 23,
   "metadata": {
    "slideshow": {
     "slide_type": "fragment"
    }
   },
   "outputs": [
    {
     "data": {
      "text/html": [
       "<div>\n",
       "<style scoped>\n",
       "    .dataframe tbody tr th:only-of-type {\n",
       "        vertical-align: middle;\n",
       "    }\n",
       "\n",
       "    .dataframe tbody tr th {\n",
       "        vertical-align: top;\n",
       "    }\n",
       "\n",
       "    .dataframe thead th {\n",
       "        text-align: right;\n",
       "    }\n",
       "</style>\n",
       "<table border=\"1\" class=\"dataframe\">\n",
       "  <thead>\n",
       "    <tr style=\"text-align: right;\">\n",
       "      <th></th>\n",
       "      <th>country</th>\n",
       "      <th>year</th>\n",
       "      <th>population</th>\n",
       "    </tr>\n",
       "  </thead>\n",
       "  <tbody>\n",
       "    <tr>\n",
       "      <th>392</th>\n",
       "      <td>Canada</td>\n",
       "      <td>1950</td>\n",
       "      <td>13700000</td>\n",
       "    </tr>\n",
       "    <tr>\n",
       "      <th>393</th>\n",
       "      <td>Canada</td>\n",
       "      <td>1955</td>\n",
       "      <td>15700000</td>\n",
       "    </tr>\n",
       "    <tr>\n",
       "      <th>394</th>\n",
       "      <td>Canada</td>\n",
       "      <td>1960</td>\n",
       "      <td>17900000</td>\n",
       "    </tr>\n",
       "    <tr>\n",
       "      <th>395</th>\n",
       "      <td>Canada</td>\n",
       "      <td>1965</td>\n",
       "      <td>19700000</td>\n",
       "    </tr>\n",
       "    <tr>\n",
       "      <th>396</th>\n",
       "      <td>Canada</td>\n",
       "      <td>1970</td>\n",
       "      <td>21500000</td>\n",
       "    </tr>\n",
       "  </tbody>\n",
       "</table>\n",
       "</div>"
      ],
      "text/plain": [
       "    country  year  population\n",
       "392  Canada  1950    13700000\n",
       "393  Canada  1955    15700000\n",
       "394  Canada  1960    17900000\n",
       "395  Canada  1965    19700000\n",
       "396  Canada  1970    21500000"
      ]
     },
     "execution_count": 23,
     "metadata": {},
     "output_type": "execute_result"
    }
   ],
   "source": [
    "canada_pop = world.loc[world['country'] == 'Canada', ['country', 'year', 'population']]\n",
    "canada_pop.head()"
   ]
  },
  {
   "cell_type": "code",
   "execution_count": 24,
   "metadata": {
    "slideshow": {
     "slide_type": "slide"
    }
   },
   "outputs": [
    {
     "data": {
      "text/html": [
       "<div>\n",
       "<style scoped>\n",
       "    .dataframe tbody tr th:only-of-type {\n",
       "        vertical-align: middle;\n",
       "    }\n",
       "\n",
       "    .dataframe tbody tr th {\n",
       "        vertical-align: top;\n",
       "    }\n",
       "\n",
       "    .dataframe thead th {\n",
       "        text-align: right;\n",
       "    }\n",
       "</style>\n",
       "<table border=\"1\" class=\"dataframe\">\n",
       "  <thead>\n",
       "    <tr style=\"text-align: right;\">\n",
       "      <th></th>\n",
       "      <th>country</th>\n",
       "      <th>year</th>\n",
       "      <th>population</th>\n",
       "    </tr>\n",
       "  </thead>\n",
       "  <tbody>\n",
       "    <tr>\n",
       "      <th>392</th>\n",
       "      <td>Canada</td>\n",
       "      <td>1950</td>\n",
       "      <td>13700000</td>\n",
       "    </tr>\n",
       "    <tr>\n",
       "      <th>393</th>\n",
       "      <td>Canada</td>\n",
       "      <td>1955</td>\n",
       "      <td>15700000</td>\n",
       "    </tr>\n",
       "    <tr>\n",
       "      <th>394</th>\n",
       "      <td>Canada</td>\n",
       "      <td>1960</td>\n",
       "      <td>17900000</td>\n",
       "    </tr>\n",
       "    <tr>\n",
       "      <th>395</th>\n",
       "      <td>Canada</td>\n",
       "      <td>1965</td>\n",
       "      <td>19700000</td>\n",
       "    </tr>\n",
       "    <tr>\n",
       "      <th>396</th>\n",
       "      <td>Canada</td>\n",
       "      <td>1970</td>\n",
       "      <td>21500000</td>\n",
       "    </tr>\n",
       "  </tbody>\n",
       "</table>\n",
       "</div>"
      ],
      "text/plain": [
       "    country  year  population\n",
       "392  Canada  1950    13700000\n",
       "393  Canada  1955    15700000\n",
       "394  Canada  1960    17900000\n",
       "395  Canada  1965    19700000\n",
       "396  Canada  1970    21500000"
      ]
     },
     "execution_count": 24,
     "metadata": {},
     "output_type": "execute_result"
    }
   ],
   "source": [
    "random_pop = world.loc[392:396, 'country':'population']\n",
    "random_pop"
   ]
  },
  {
   "cell_type": "markdown",
   "metadata": {
    "slideshow": {
     "slide_type": "slide"
    }
   },
   "source": [
    "- To improve readability, longer statements can be split into multiple rows"
   ]
  },
  {
   "cell_type": "code",
   "execution_count": 25,
   "metadata": {
    "slideshow": {
     "slide_type": "fragment"
    }
   },
   "outputs": [
    {
     "data": {
      "text/html": [
       "<div>\n",
       "<style scoped>\n",
       "    .dataframe tbody tr th:only-of-type {\n",
       "        vertical-align: middle;\n",
       "    }\n",
       "\n",
       "    .dataframe tbody tr th {\n",
       "        vertical-align: top;\n",
       "    }\n",
       "\n",
       "    .dataframe thead th {\n",
       "        text-align: right;\n",
       "    }\n",
       "</style>\n",
       "<table border=\"1\" class=\"dataframe\">\n",
       "  <thead>\n",
       "    <tr style=\"text-align: right;\">\n",
       "      <th></th>\n",
       "      <th>country</th>\n",
       "      <th>year</th>\n",
       "      <th>sub_region</th>\n",
       "      <th>population</th>\n",
       "      <th>life_expectancy</th>\n",
       "    </tr>\n",
       "  </thead>\n",
       "  <tbody>\n",
       "    <tr>\n",
       "      <th>12</th>\n",
       "      <td>Afghanistan</td>\n",
       "      <td>2010</td>\n",
       "      <td>Southern Asia</td>\n",
       "      <td>28800000</td>\n",
       "      <td>56.2</td>\n",
       "    </tr>\n",
       "    <tr>\n",
       "      <th>13</th>\n",
       "      <td>Afghanistan</td>\n",
       "      <td>2015</td>\n",
       "      <td>Southern Asia</td>\n",
       "      <td>33700000</td>\n",
       "      <td>57.9</td>\n",
       "    </tr>\n",
       "    <tr>\n",
       "      <th>26</th>\n",
       "      <td>Albania</td>\n",
       "      <td>2010</td>\n",
       "      <td>Southern Europe</td>\n",
       "      <td>2940000</td>\n",
       "      <td>76.3</td>\n",
       "    </tr>\n",
       "    <tr>\n",
       "      <th>27</th>\n",
       "      <td>Albania</td>\n",
       "      <td>2015</td>\n",
       "      <td>Southern Europe</td>\n",
       "      <td>2920000</td>\n",
       "      <td>77.6</td>\n",
       "    </tr>\n",
       "    <tr>\n",
       "      <th>40</th>\n",
       "      <td>Algeria</td>\n",
       "      <td>2010</td>\n",
       "      <td>Northern Africa</td>\n",
       "      <td>36100000</td>\n",
       "      <td>76.5</td>\n",
       "    </tr>\n",
       "  </tbody>\n",
       "</table>\n",
       "</div>"
      ],
      "text/plain": [
       "        country  year       sub_region  population  life_expectancy\n",
       "12  Afghanistan  2010    Southern Asia    28800000             56.2\n",
       "13  Afghanistan  2015    Southern Asia    33700000             57.9\n",
       "26      Albania  2010  Southern Europe     2940000             76.3\n",
       "27      Albania  2015  Southern Europe     2920000             77.6\n",
       "40      Algeria  2010  Northern Africa    36100000             76.5"
      ]
     },
     "execution_count": 25,
     "metadata": {},
     "output_type": "execute_result"
    }
   ],
   "source": [
    "recent_data = world.loc[world['year'] >= 2010,\n",
    "                        ['country', 'year', 'sub_region', 'population', 'life_expectancy']\n",
    "                       ]\n",
    "recent_data.head()"
   ]
  },
  {
   "cell_type": "markdown",
   "metadata": {
    "slideshow": {
     "slide_type": "slide"
    }
   },
   "source": [
    "## More Options for Data Selection\n",
    "\n",
    "- A single expression can be used to filter rows based on multiple criteria, either matching *all* the criteria (`&`) or *any* of the criteria (`|`)\n",
    "- These special operators are used instead of `and` and `or` to make sure that the comparison occurs for each row in the data frame\n",
    "- Parentheses are added to indicate the priority of the comparisons\n",
    "\n",
    "Select rows where the sub-region is Northern Europe and the year is 2015:"
   ]
  },
  {
   "cell_type": "code",
   "execution_count": 26,
   "metadata": {
    "slideshow": {
     "slide_type": "fragment"
    }
   },
   "outputs": [
    {
     "data": {
      "text/html": [
       "<div>\n",
       "<style scoped>\n",
       "    .dataframe tbody tr th:only-of-type {\n",
       "        vertical-align: middle;\n",
       "    }\n",
       "\n",
       "    .dataframe tbody tr th {\n",
       "        vertical-align: top;\n",
       "    }\n",
       "\n",
       "    .dataframe thead th {\n",
       "        text-align: right;\n",
       "    }\n",
       "</style>\n",
       "<table border=\"1\" class=\"dataframe\">\n",
       "  <thead>\n",
       "    <tr style=\"text-align: right;\">\n",
       "      <th></th>\n",
       "      <th>sub_region</th>\n",
       "      <th>country</th>\n",
       "      <th>year</th>\n",
       "      <th>gdp_per_capita</th>\n",
       "    </tr>\n",
       "  </thead>\n",
       "  <tbody>\n",
       "    <tr>\n",
       "      <th>615</th>\n",
       "      <td>Northern Europe</td>\n",
       "      <td>Denmark</td>\n",
       "      <td>2015</td>\n",
       "      <td>45500</td>\n",
       "    </tr>\n",
       "    <tr>\n",
       "      <th>727</th>\n",
       "      <td>Northern Europe</td>\n",
       "      <td>Estonia</td>\n",
       "      <td>2015</td>\n",
       "      <td>27300</td>\n",
       "    </tr>\n",
       "    <tr>\n",
       "      <th>769</th>\n",
       "      <td>Northern Europe</td>\n",
       "      <td>Finland</td>\n",
       "      <td>2015</td>\n",
       "      <td>39000</td>\n",
       "    </tr>\n",
       "  </tbody>\n",
       "</table>\n",
       "</div>"
      ],
      "text/plain": [
       "          sub_region  country  year  gdp_per_capita\n",
       "615  Northern Europe  Denmark  2015           45500\n",
       "727  Northern Europe  Estonia  2015           27300\n",
       "769  Northern Europe  Finland  2015           39000"
      ]
     },
     "execution_count": 26,
     "metadata": {},
     "output_type": "execute_result"
    }
   ],
   "source": [
    "world.loc[(world['sub_region'] == 'Northern Europe') & (world['year'] == 2015),\n",
    "          ['sub_region', 'country', 'year', 'gdp_per_capita']\n",
    "         ].head(3)"
   ]
  },
  {
   "cell_type": "markdown",
   "metadata": {
    "slideshow": {
     "slide_type": "slide"
    }
   },
   "source": [
    "Other useful ways of subsetting data include methods such as `isin()`, `between()`, `isna()`, `notna()`"
   ]
  },
  {
   "cell_type": "code",
   "execution_count": 27,
   "metadata": {
    "slideshow": {
     "slide_type": "fragment"
    }
   },
   "outputs": [
    {
     "data": {
      "text/html": [
       "<div>\n",
       "<style scoped>\n",
       "    .dataframe tbody tr th:only-of-type {\n",
       "        vertical-align: middle;\n",
       "    }\n",
       "\n",
       "    .dataframe tbody tr th {\n",
       "        vertical-align: top;\n",
       "    }\n",
       "\n",
       "    .dataframe thead th {\n",
       "        text-align: right;\n",
       "    }\n",
       "</style>\n",
       "<table border=\"1\" class=\"dataframe\">\n",
       "  <thead>\n",
       "    <tr style=\"text-align: right;\">\n",
       "      <th></th>\n",
       "      <th>country</th>\n",
       "      <th>year</th>\n",
       "      <th>life_expectancy</th>\n",
       "    </tr>\n",
       "  </thead>\n",
       "  <tbody>\n",
       "    <tr>\n",
       "      <th>405</th>\n",
       "      <td>Canada</td>\n",
       "      <td>2015</td>\n",
       "      <td>81.7</td>\n",
       "    </tr>\n",
       "    <tr>\n",
       "      <th>783</th>\n",
       "      <td>France</td>\n",
       "      <td>2015</td>\n",
       "      <td>82.2</td>\n",
       "    </tr>\n",
       "    <tr>\n",
       "      <th>1119</th>\n",
       "      <td>Japan</td>\n",
       "      <td>2015</td>\n",
       "      <td>83.8</td>\n",
       "    </tr>\n",
       "  </tbody>\n",
       "</table>\n",
       "</div>"
      ],
      "text/plain": [
       "     country  year  life_expectancy\n",
       "405   Canada  2015             81.7\n",
       "783   France  2015             82.2\n",
       "1119   Japan  2015             83.8"
      ]
     },
     "execution_count": 27,
     "metadata": {},
     "output_type": "execute_result"
    }
   ],
   "source": [
    "world.loc[world['country'].isin(['Canada', 'Japan', 'France']) & (world['year'] == 2015),\n",
    "          ['country', 'year', 'life_expectancy']\n",
    "         ]"
   ]
  },
  {
   "cell_type": "markdown",
   "metadata": {
    "slideshow": {
     "slide_type": "skip"
    }
   },
   "source": [
    "Want to learn more? Check out [this tutorial](https://pandas.pydata.org/docs/getting_started/intro_tutorials/03_subset_data.html#min-tut-03-subset) and the [pandas documentation](https://pandas.pydata.org/docs/user_guide/indexing.html)."
   ]
  }
 ],
 "metadata": {
  "celltoolbar": "Slideshow",
  "kernelspec": {
   "display_name": "Python 3.9.7 ('base')",
   "language": "python",
   "name": "python3"
  },
  "language_info": {
   "codemirror_mode": {
    "name": "ipython",
    "version": 3
   },
   "file_extension": ".py",
   "mimetype": "text/x-python",
   "name": "python",
   "nbconvert_exporter": "python",
   "pygments_lexer": "ipython3",
   "version": "3.11.7"
  },
  "vscode": {
   "interpreter": {
    "hash": "b6e0f8a12803683744c861614f716ee6d7b4737375095190f9e58ed1bf7efce1"
   }
  }
 },
 "nbformat": 4,
 "nbformat_minor": 4
}
